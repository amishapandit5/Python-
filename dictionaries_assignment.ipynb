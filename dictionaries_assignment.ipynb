{
 "cells": [
  {
   "cell_type": "markdown",
   "id": "4a2342fc",
   "metadata": {},
   "source": []
  },
  {
   "cell_type": "markdown",
   "metadata": {},
   "source": [
    "# Module 3: Data Structures Assignments\n",
    "## Lesson 3.4: Dictionaries\n",
    "### Assignment 1: Creating and Accessing Dictionaries\n",
    "\n",
    "Create a dictionary with the first 10 positive integers as keys and their squares as values. Print the dictionary.\n",
    "\n",
    "### Assignment 2: Accessing Dictionary Elements\n",
    "\n",
    "Print the value of the key 5 and the keys of the dictionary created in Assignment 1.\n",
    "\n",
    "### Assignment 3: Dictionary Methods\n",
    "\n",
    "Add a new key-value pair (11, 121) to the dictionary created in Assignment 1 and then remove the key-value pair with key 1. Print the modified dictionary.\n",
    "\n",
    "### Assignment 4: Iterating Over Dictionaries\n",
    "\n",
    "Iterate over the dictionary created in Assignment 1 and print each key-value pair.\n",
    "\n",
    "### Assignment 5: Dictionary Comprehensions\n",
    "\n",
    "Create a new dictionary containing the cubes of the first 10 positive integers using a dictionary comprehension. Print the new dictionary.\n",
    "\n",
    "### Assignment 6: Merging Dictionaries\n",
    "\n",
    "Create two dictionaries: one with keys as the first 5 positive integers and values as their squares, and another with keys as the next 5 positive integers and values as their squares. Merge these dictionaries into a single dictionary and print it.\n",
    "\n",
    "### Assignment 7: Nested Dictionaries\n",
    "\n",
    "Create a nested dictionary representing a student with keys 'name', 'age', 'grades', where 'grades' is another dictionary with keys 'math', 'science', and 'english'. Print the nested dictionary.\n",
    "\n",
    "### Assignment 8: Dictionary of Lists\n",
    "\n",
    "Create a dictionary where the keys are the first 5 positive integers and the values are lists containing the first 5 multiples of the key. Print the dictionary.\n",
    "\n",
    "### Assignment 9: Dictionary of Tuples\n",
    "\n",
    "Create a dictionary where the keys are the first 5 positive integers and the values are tuples containing the key and its square. Print the dictionary.\n",
    "\n",
    "### Assignment 10: Dictionary and List Conversion\n",
    "\n",
    "Create a dictionary with the first 5 positive integers as keys and their squares as values. Convert the dictionary to a list of tuples and print it.\n",
    "\n",
    "### Assignment 11: Dictionary Filtering\n",
    "\n",
    "Create a dictionary with the first 10 positive integers as keys and their squares as values. Create a new dictionary containing only the key-value pairs where the key is even. Print the new dictionary.\n",
    "\n",
    "### Assignment 12: Dictionary Key and Value Transformation\n",
    "\n",
    "Create a dictionary with the first 5 positive integers as keys and their squares as values. Create a new dictionary with keys and values swapped. Print the new dictionary.\n",
    "\n",
    "### Assignment 13: Default Dictionary\n",
    "\n",
    "Create a default dictionary where each key has a default value of an empty list. Add some elements to the lists and print the dictionary.\n",
    "\n",
    "### Assignment 14: Counting with Dictionaries\n",
    "\n",
    "Write a function that takes a string and returns a dictionary with the count of each character in the string. Print the dictionary.\n",
    "\n",
    "### Assignment 15: Dictionary and JSON\n",
    "\n",
    "Create a dictionary representing a book with keys 'title', 'author', 'year', and 'genre'. Convert the dictionary to a JSON string and print it."
   ]
  },
  {
   "cell_type": "markdown",
   "id": "b3313d23",
   "metadata": {},
   "source": [
    "ass1"
   ]
  },
  {
   "cell_type": "code",
   "execution_count": 2,
   "id": "abb3bbfc",
   "metadata": {},
   "outputs": [
    {
     "name": "stdout",
     "output_type": "stream",
     "text": [
      "{0: 0, 1: 1, 2: 4, 3: 9, 4: 16, 5: 25, 6: 36, 7: 49, 8: 64, 9: 81, 10: 100}\n"
     ]
    }
   ],
   "source": [
    "d1 = {x : x**2 for x in range(11)}\n",
    "print(d1)"
   ]
  },
  {
   "cell_type": "markdown",
   "id": "3433d186",
   "metadata": {},
   "source": [
    "ass2"
   ]
  },
  {
   "cell_type": "code",
   "execution_count": 6,
   "metadata": {},
   "outputs": [
    {
     "name": "stdout",
     "output_type": "stream",
     "text": [
      "dict_keys([0, 1, 2, 3, 4, 5, 6, 7, 8, 9, 10])\n",
      "25\n"
     ]
    }
   ],
   "source": [
    "print(f\"{d1.keys()}\")\n",
    "print(d1[5])"
   ]
  },
  {
   "cell_type": "markdown",
   "id": "f5476784",
   "metadata": {},
   "source": [
    "ass3"
   ]
  },
  {
   "cell_type": "code",
   "execution_count": 7,
   "id": "e00b2200",
   "metadata": {},
   "outputs": [
    {
     "name": "stdout",
     "output_type": "stream",
     "text": [
      "{0: 0, 2: 4, 3: 9, 4: 16, 5: 25, 6: 36, 7: 49, 8: 64, 9: 81, 10: 100, 11: 121}\n"
     ]
    }
   ],
   "source": [
    "d1[11]=121\n",
    "d1.pop(1)\n",
    "print(d1)"
   ]
  },
  {
   "cell_type": "markdown",
   "id": "1b3314da",
   "metadata": {},
   "source": [
    "ass4"
   ]
  },
  {
   "cell_type": "code",
   "execution_count": 8,
   "id": "d1b73491",
   "metadata": {},
   "outputs": [
    {
     "name": "stdout",
     "output_type": "stream",
     "text": [
      "0:0\n",
      "2:4\n",
      "3:9\n",
      "4:16\n",
      "5:25\n",
      "6:36\n",
      "7:49\n",
      "8:64\n",
      "9:81\n",
      "10:100\n",
      "11:121\n"
     ]
    }
   ],
   "source": [
    "for key,val in d1.items():\n",
    "    print(f\"{key}:{val}\")"
   ]
  },
  {
   "cell_type": "markdown",
   "id": "5b369ec3",
   "metadata": {},
   "source": [
    "ass5"
   ]
  },
  {
   "cell_type": "code",
   "execution_count": 9,
   "id": "1dd55463",
   "metadata": {},
   "outputs": [
    {
     "name": "stdout",
     "output_type": "stream",
     "text": [
      "{0: 0, 1: 1, 2: 8, 3: 27, 4: 64, 5: 125, 6: 216, 7: 343, 8: 512, 9: 729, 10: 1000}\n"
     ]
    }
   ],
   "source": [
    "d2 = { x : x**3 for x in range(11)}\n",
    "print(d2)"
   ]
  },
  {
   "cell_type": "markdown",
   "id": "2cf13c5d",
   "metadata": {},
   "source": [
    "ass6"
   ]
  },
  {
   "cell_type": "code",
   "execution_count": 12,
   "id": "c209899d",
   "metadata": {},
   "outputs": [
    {
     "name": "stdout",
     "output_type": "stream",
     "text": [
      "{1: 1, 2: 4, 3: 9, 4: 16, 5: 25, 6: 36, 7: 49, 8: 64, 9: 81, 10: 100}\n"
     ]
    }
   ],
   "source": [
    "dic1 = { x : x**2 for x in range(1,6)}\n",
    "dic2 = { x : x**2 for x in range(6,11)}\n",
    "md = {**dic1,**dic2}\n",
    "print(md)"
   ]
  },
  {
   "cell_type": "markdown",
   "id": "902a6d92",
   "metadata": {},
   "source": [
    "ass7"
   ]
  },
  {
   "cell_type": "code",
   "execution_count": 14,
   "id": "d640f81a",
   "metadata": {},
   "outputs": [
    {
     "name": "stdout",
     "output_type": "stream",
     "text": [
      "{'name': 'meesha', 'age': 20, 'grades': {'math': 'A', 'english': 20}}\n"
     ]
    }
   ],
   "source": [
    "student = { \"name\" : \"meesha\" , \"age\" : 20 , \"grades\" : {\"math\" : 'A' , \"english\" : 20}}\n",
    "print(student)"
   ]
  },
  {
   "cell_type": "markdown",
   "id": "2eb47268",
   "metadata": {},
   "source": [
    "ass8"
   ]
  },
  {
   "cell_type": "code",
   "execution_count": 16,
   "id": "1947c6a9",
   "metadata": {},
   "outputs": [
    {
     "name": "stdout",
     "output_type": "stream",
     "text": [
      "{1: [1, 2, 3, 4, 5], 2: [2, 4, 6, 8, 10], 3: [3, 6, 9, 12, 15], 4: [4, 8, 12, 16, 20], 5: [5, 10, 15, 20, 25]}\n"
     ]
    }
   ],
   "source": [
    "num = {x : [x*i for i in range(1,6)] for x in range(1,6)}\n",
    "print(num)"
   ]
  },
  {
   "cell_type": "markdown",
   "id": "1cadabcb",
   "metadata": {},
   "source": [
    "ass9"
   ]
  },
  {
   "cell_type": "code",
   "execution_count": 17,
   "id": "13dd27a7",
   "metadata": {},
   "outputs": [
    {
     "name": "stdout",
     "output_type": "stream",
     "text": [
      "{1: (1, 1), 2: (2, 4), 3: (3, 9), 4: (4, 16), 5: (5, 25)}\n"
     ]
    }
   ],
   "source": [
    "di = {x : (x,x**2) for x in range(1,6)}\n",
    "print(di)"
   ]
  },
  {
   "cell_type": "markdown",
   "id": "ebbf2c49",
   "metadata": {},
   "source": [
    "ass10"
   ]
  },
  {
   "cell_type": "code",
   "execution_count": 18,
   "id": "91b3cde8",
   "metadata": {},
   "outputs": [
    {
     "name": "stdout",
     "output_type": "stream",
     "text": [
      "[(1, 1), (2, 4), (3, 9), (4, 16), (5, 25)]\n"
     ]
    }
   ],
   "source": [
    "dic = {x:x**2 for x in range(1,6)}\n",
    "print(list(tuple(dic.items())))"
   ]
  },
  {
   "cell_type": "markdown",
   "id": "f9d92629",
   "metadata": {},
   "source": [
    "ass11"
   ]
  },
  {
   "cell_type": "code",
   "execution_count": 21,
   "id": "fd443dde",
   "metadata": {},
   "outputs": [
    {
     "name": "stdout",
     "output_type": "stream",
     "text": [
      "{2: 4, 4: 16, 6: 36, 8: 64, 10: 100}\n"
     ]
    }
   ],
   "source": [
    "sq = { x : x**2 for x in range(1,11)}\n",
    "newsq = {k : v for k,v in sq.items() if k % 2 == 0}\n",
    "print(newsq)"
   ]
  },
  {
   "cell_type": "markdown",
   "id": "7364e770",
   "metadata": {},
   "source": [
    "ass12"
   ]
  },
  {
   "cell_type": "code",
   "execution_count": 22,
   "id": "4115f554",
   "metadata": {},
   "outputs": [
    {
     "name": "stdout",
     "output_type": "stream",
     "text": [
      "{1: 1, 4: 2, 9: 3, 16: 4, 25: 5}\n"
     ]
    }
   ],
   "source": [
    "sq = { x : x**2 for x in range(1,6)}\n",
    "sq1 = { v : k for k,v in sq.items() }\n",
    "print(sq1)"
   ]
  },
  {
   "cell_type": "markdown",
   "id": "d1f8219f",
   "metadata": {},
   "source": [
    "ass13"
   ]
  },
  {
   "cell_type": "code",
   "execution_count": 23,
   "id": "404c3bb6",
   "metadata": {},
   "outputs": [
    {
     "name": "stdout",
     "output_type": "stream",
     "text": [
      "defaultdict(<class 'list'>, {'a': [1, 2], 'b': [3]})\n"
     ]
    }
   ],
   "source": [
    "from collections import defaultdict\n",
    "\n",
    "default_dict = defaultdict(list)\n",
    "default_dict['a'].append(1)\n",
    "default_dict['a'].append(2)\n",
    "default_dict['b'].append(3)\n",
    "print(default_dict)"
   ]
  },
  {
   "cell_type": "markdown",
   "id": "b797c33c",
   "metadata": {},
   "source": [
    "ass14"
   ]
  },
  {
   "cell_type": "code",
   "execution_count": 24,
   "id": "09f163a0",
   "metadata": {},
   "outputs": [
    {
     "name": "stdout",
     "output_type": "stream",
     "text": [
      "{'h': 2, 'e': 1, 'l': 2, 'o': 3, ' ': 1, 'm': 1, 'i': 1, 's': 1}\n"
     ]
    }
   ],
   "source": [
    "def countwrd(word):\n",
    "    charcount = {}\n",
    "    for char in word:\n",
    "        charcount[char] = charcount.get(char,0)+1\n",
    "    return charcount\n",
    "\n",
    "print(countwrd(\"hellooo mish\"))\n"
   ]
  },
  {
   "cell_type": "markdown",
   "id": "dab9fe79",
   "metadata": {},
   "source": [
    "ass15"
   ]
  },
  {
   "cell_type": "code",
   "execution_count": 25,
   "id": "f19cffc3",
   "metadata": {},
   "outputs": [
    {
     "name": "stdout",
     "output_type": "stream",
     "text": [
      "{\"title\": \"one of us is lying\", \"author\": \" Karen M Mcmanus\", \"year\": 2017, \"genre\": \"mystry\"}\n"
     ]
    }
   ],
   "source": [
    "import json\n",
    "book = {\"title\" : \"one of us is lying\", \"author\" : \" Karen M Mcmanus\", \"year\" : 2017, \"genre\" : \"mystry\"}\n",
    "newbook = json.dumps(book)\n",
    "print(newbook)\n"
   ]
  }
 ],
 "metadata": {
  "kernelspec": {
   "display_name": "Python 3",
   "language": "python",
   "name": "python3"
  },
  "language_info": {
   "codemirror_mode": {
    "name": "ipython",
    "version": 3
   },
   "file_extension": ".py",
   "mimetype": "text/x-python",
   "name": "python",
   "nbconvert_exporter": "python",
   "pygments_lexer": "ipython3",
   "version": "3.12.0"
  }
 },
 "nbformat": 4,
 "nbformat_minor": 5
}
