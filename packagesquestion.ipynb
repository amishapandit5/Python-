{
 "cells": [
  {
   "cell_type": "markdown",
   "metadata": {},
   "source": [
    "# Module 5: Modules and Packages Assignments\n",
    "## Lesson 5.1: Importing Modules\n",
    "### Assignment 1: Importing and Using Modules\n",
    "\n",
    "Import the `math` module and use it to calculate the square root of 25 and the sine of 90 degrees.\n",
    "\n",
    "### Assignment 2: Aliasing Modules\n",
    "\n",
    "Import the `datetime` module with an alias and use it to print the current date and time.\n",
    "\n",
    "### Assignment 3: Importing Specific Functions\n",
    "\n",
    "Import the `randint` function from the `random` module and use it to generate a random integer between 1 and 100.\n",
    "\n",
    "### Assignment 4: Importing Multiple Functions\n",
    "\n",
    "Import the `sqrt` and `pow` functions from the `math` module and use them to calculate the square root of 16 and 2 raised to the power of 3.\n",
    "\n",
    "### Assignment 5: Handling Import Errors\n",
    "\n",
    "Write code that attempts to import a non-existent module and gracefully handles the import error by printing an error message.\n",
    "\n",
    "## Lesson 5.2: Standard Library Overview\n",
    "### Assignment 6: Working with the `os` Module\n",
    "\n",
    "Use the `os` module to create a new directory, list the contents of the current directory, and remove the newly created directory.\n",
    "\n",
    "### Assignment 7: Working with the `sys` Module\n",
    "\n",
    "Use the `sys` module to print the Python version currently in use and the command-line arguments passed to the script.\n",
    "\n",
    "### Assignment 8: Working with the `math` Module\n",
    "\n",
    "Use the `math` module to calculate the greatest common divisor (GCD) of two numbers and the factorial of a number.\n",
    "\n",
    "### Assignment 9: Working with the `datetime` Module\n",
    "\n",
    "Use the `datetime` module to print the current date, calculate the date 100 days from today, and determine the day of the week for a given date.\n",
    "\n",
    "### Assignment 10: Working with the `random` Module\n",
    "\n",
    "Use the `random` module to generate a list of 5 random numbers between 1 and 50 and shuffle the elements of a list.\n",
    "\n",
    "## Lesson 5.3: Creating and Using Packages\n",
    "### Assignment 11: Creating a Simple Package\n",
    "\n",
    "Create a package named `mypackage` with two modules: `module1` and `module2`. `module1` should contain a function that adds two numbers, and `module2` should contain a function that multiplies two numbers. Write code to use these functions.\n",
    "\n",
    "### Assignment 12: Using `__init__.py`\n",
    "\n",
    "Modify the `mypackage` package to include an `__init__.py` file that imports the functions from `module1` and `module2`. Write code to use these functions.\n",
    "\n",
    "### Assignment 13: Importing from a Package\n",
    "\n",
    "Write code to import and use the functions from `mypackage` without explicitly importing `module1` and `module2`.\n",
    "\n",
    "### Assignment 14: Relative Imports\n",
    "\n",
    "Create a subpackage named `subpackage` within `mypackage` and move `module2` into `subpackage`. Modify the import statements in `__init__.py` to use relative imports. Write code to use the functions from both modules.\n",
    "\n",
    "### Assignment 15: Handling Package Import Errors\n",
    "\n",
    "Write code that attempts to import a non-existent function from `mypackage` and gracefully handles the import error by printing an error message."
   ]
  },
  {
   "cell_type": "markdown",
   "id": "947f5415",
   "metadata": {},
   "source": [
    "Importing Modules"
   ]
  },
  {
   "cell_type": "markdown",
   "id": "142b6702",
   "metadata": {},
   "source": [
    "ass1\n"
   ]
  },
  {
   "cell_type": "code",
   "execution_count": 1,
   "id": "42df1201",
   "metadata": {},
   "outputs": [
    {
     "name": "stdout",
     "output_type": "stream",
     "text": [
      "5.0 0.8939966636005579\n"
     ]
    }
   ],
   "source": [
    "import math\n",
    "print(math.sqrt(25),math.sin(90))\n"
   ]
  },
  {
   "cell_type": "markdown",
   "id": "c6b98a38",
   "metadata": {},
   "source": [
    "ass2\n"
   ]
  },
  {
   "cell_type": "code",
   "execution_count": 3,
   "metadata": {},
   "outputs": [
    {
     "name": "stdout",
     "output_type": "stream",
     "text": [
      "2025-10-30 14:22:38.321857\n"
     ]
    }
   ],
   "source": [
    "import datetime as dt\n",
    "print(dt.datetime.now())"
   ]
  },
  {
   "cell_type": "markdown",
   "id": "27f05f61",
   "metadata": {},
   "source": [
    "ass3\n"
   ]
  },
  {
   "cell_type": "code",
   "execution_count": 4,
   "id": "f1eb10b9",
   "metadata": {},
   "outputs": [
    {
     "name": "stdout",
     "output_type": "stream",
     "text": [
      "9\n"
     ]
    }
   ],
   "source": [
    "from random import randint\n",
    "print(randint(1,100))"
   ]
  },
  {
   "cell_type": "markdown",
   "id": "4fca0a26",
   "metadata": {},
   "source": [
    "ass4"
   ]
  },
  {
   "cell_type": "code",
   "execution_count": 5,
   "id": "106c1813",
   "metadata": {},
   "outputs": [
    {
     "name": "stdout",
     "output_type": "stream",
     "text": [
      "5.0 8.0\n"
     ]
    }
   ],
   "source": [
    "from math import sqrt , pow\n",
    "print(sqrt(25), pow(2,3))"
   ]
  },
  {
   "cell_type": "markdown",
   "id": "9df27474",
   "metadata": {},
   "source": [
    "ass5"
   ]
  },
  {
   "cell_type": "code",
   "execution_count": 6,
   "id": "a65d09d2",
   "metadata": {},
   "outputs": [
    {
     "name": "stdout",
     "output_type": "stream",
     "text": [
      "Error importing module: No module named 'non_existent_module'\n"
     ]
    }
   ],
   "source": [
    "try:\n",
    "    import non_existent_module\n",
    "except ImportError as e:\n",
    "    print(f\"Error importing module: {e}\")"
   ]
  },
  {
   "cell_type": "markdown",
   "id": "3b37b355",
   "metadata": {},
   "source": [
    "STANDARD LIBRARY"
   ]
  },
  {
   "cell_type": "markdown",
   "id": "830aa4a3",
   "metadata": {},
   "source": [
    "ass6"
   ]
  },
  {
   "cell_type": "code",
   "execution_count": 7,
   "id": "fbb9afbd",
   "metadata": {},
   "outputs": [
    {
     "name": "stdout",
     "output_type": "stream",
     "text": [
      "['packagesquestion.ipynb', 'new_directory', 'packagessolution.ipynb']\n",
      "['packagesquestion.ipynb', 'packagessolution.ipynb']\n"
     ]
    }
   ],
   "source": [
    "import os\n",
    "\n",
    "os.mkdir('new_directory')\n",
    "\n",
    "print(os.listdir('.'))\n",
    "\n",
    "os.rmdir('new_directory')\n",
    "print(os.listdir('.'))"
   ]
  },
  {
   "cell_type": "markdown",
   "id": "4c2c1e45",
   "metadata": {},
   "source": [
    "ass7"
   ]
  },
  {
   "cell_type": "code",
   "execution_count": 8,
   "id": "4ae16d7a",
   "metadata": {},
   "outputs": [
    {
     "name": "stdout",
     "output_type": "stream",
     "text": [
      "3.12.0 | packaged by Anaconda, Inc. | (main, Oct  2 2023, 12:22:05) [Clang 14.0.6 ]\n",
      "['/Users/amishapandit5/Desktop/PY/venv/lib/python3.12/site-packages/ipykernel_launcher.py', '--f=/Users/amishapandit5/Library/Jupyter/runtime/kernel-v32a04d76d95db9bfd73644c287cc2558b1aaffacf.json']\n"
     ]
    }
   ],
   "source": [
    "import sys\n",
    "print(sys.version)\n",
    "print(sys.argv)"
   ]
  },
  {
   "cell_type": "markdown",
   "id": "796728f7",
   "metadata": {},
   "source": [
    "ass8"
   ]
  },
  {
   "cell_type": "code",
   "execution_count": 9,
   "id": "d52f32af",
   "metadata": {},
   "outputs": [
    {
     "name": "stdout",
     "output_type": "stream",
     "text": [
      "6\n",
      "120\n"
     ]
    }
   ],
   "source": [
    "import math\n",
    "\n",
    "print(math.gcd(48, 18))  \n",
    "print(math.factorial(5))  "
   ]
  },
  {
   "cell_type": "markdown",
   "id": "3bf4cbe5",
   "metadata": {},
   "source": [
    "ass9\n"
   ]
  },
  {
   "cell_type": "code",
   "execution_count": 10,
   "id": "952ec73e",
   "metadata": {},
   "outputs": [
    {
     "name": "stdout",
     "output_type": "stream",
     "text": [
      "today = 2025-10-30\n",
      "100th day = 100 days, 0:00:00\n",
      "Wednesday\n"
     ]
    }
   ],
   "source": [
    "import datetime as dt\n",
    "today_dt = dt.date.today()\n",
    "print(f\"today = {today_dt}\")\n",
    "dayhun = dt.timedelta(days=100)\n",
    "print(f\"100th day = {dayhun}\")\n",
    "day = dt.date(2025,1,1)\n",
    "print(day.strftime(\"%A\"))"
   ]
  },
  {
   "cell_type": "markdown",
   "id": "38636459",
   "metadata": {},
   "source": [
    "ass10"
   ]
  },
  {
   "cell_type": "code",
   "execution_count": 11,
   "id": "a5cbbaa3",
   "metadata": {},
   "outputs": [
    {
     "name": "stdout",
     "output_type": "stream",
     "text": [
      "[41, 9, 12, 38, 17]\n",
      "[2, 4, 5, 3, 1]\n"
     ]
    }
   ],
   "source": [
    "import random\n",
    "\n",
    "random_numbers = [random.randint(1, 50) for _ in range(5)]\n",
    "print(random_numbers)\n",
    "\n",
    "lst = [1, 2, 3, 4, 5]\n",
    "random.shuffle(lst)\n",
    "print(lst)"
   ]
  }
 ],
 "metadata": {
  "kernelspec": {
   "display_name": "Python 3",
   "language": "python",
   "name": "python3"
  },
  "language_info": {
   "codemirror_mode": {
    "name": "ipython",
    "version": 3
   },
   "file_extension": ".py",
   "mimetype": "text/x-python",
   "name": "python",
   "nbconvert_exporter": "python",
   "pygments_lexer": "ipython3",
   "version": "3.12.0"
  }
 },
 "nbformat": 4,
 "nbformat_minor": 5
}
