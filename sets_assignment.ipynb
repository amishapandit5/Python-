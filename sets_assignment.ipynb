{
 "cells": [
  {
   "cell_type": "markdown",
   "metadata": {},
   "source": [
    "# Module 3: Data Structures Assignments\n",
    "## Lesson 3.3: Sets\n",
    "### Assignment 1: Creating and Accessing Sets\n",
    "\n",
    "Create a set with the first 10 positive integers. Print the set.\n",
    "\n",
    "### Assignment 2: Adding and Removing Elements\n",
    "\n",
    "Add the number 11 to the set created in Assignment 1. Then remove the number 1 from the set. Print the modified set.\n",
    "\n",
    "### Assignment 3: Set Operations\n",
    "\n",
    "Create two sets: one with the first 5 positive integers and another with the first 5 even integers. Perform and print the results of union, intersection, difference, and symmetric difference operations on these sets.\n",
    "\n",
    "### Assignment 4: Set Comprehensions\n",
    "\n",
    "Create a new set containing the squares of the first 10 positive integers using a set comprehension. Print the new set.\n",
    "\n",
    "### Assignment 5: Filtering Sets\n",
    "\n",
    "Create a new set containing only the even numbers from the set created in Assignment 1 using a set comprehension. Print the new set.\n",
    "\n",
    "### Assignment 6: Set Methods\n",
    "\n",
    "Create a set with duplicate elements and remove the duplicates using set methods. Print the modified set.\n",
    "\n",
    "### Assignment 7: Subsets and Supersets\n",
    "\n",
    "Create two sets: one with the first 5 positive integers and another with the first 3 positive integers. Check if the second set is a subset of the first set and if the first set is a superset of the second set. Print the results.\n",
    "\n",
    "### Assignment 8: Frozenset\n",
    "\n",
    "Create a frozenset with the first 5 positive integers. Print the frozenset.\n",
    "\n",
    "### Assignment 9: Set and List Conversion\n",
    "\n",
    "Create a set with the first 5 positive integers. Convert it to a list, append the number 6, and convert it back to a set. Print the resulting set.\n",
    "\n",
    "### Assignment 10: Set and Dictionary\n",
    "\n",
    "Create a dictionary with set keys and integer values. Print the dictionary.\n",
    "\n",
    "### Assignment 11: Iterating Over Sets\n",
    "\n",
    "Create a set and iterate over the elements, printing each element.\n",
    "\n",
    "### Assignment 12: Removing Elements from Sets\n",
    "\n",
    "Create a set and remove elements from it until it is empty. Print the set after each removal.\n",
    "\n",
    "### Assignment 13: Set Symmetric Difference Update\n",
    "\n",
    "Create two sets and update the first set with the symmetric difference of the two sets. Print the modified first set.\n",
    "\n",
    "### Assignment 14: Set Membership Testing\n",
    "\n",
    "Create a set and test if certain elements are present in the set. Print the results.\n",
    "\n",
    "### Assignment 15: Set of Tuples\n",
    "\n",
    "Create a set containing tuples, where each tuple contains two elements. Print the set."
   ]
  },
  {
   "cell_type": "markdown",
   "id": "4cb12b14",
   "metadata": {},
   "source": [
    "ass1"
   ]
  },
  {
   "cell_type": "code",
   "execution_count": 1,
   "metadata": {},
   "outputs": [
    {
     "name": "stdout",
     "output_type": "stream",
     "text": [
      "{0, 1, 2, 3, 4, 5}\n"
     ]
    }
   ],
   "source": [
    "num = set(range(0,6))\n",
    "print(num)"
   ]
  },
  {
   "cell_type": "markdown",
   "id": "0eb11ebb",
   "metadata": {},
   "source": [
    "ass2"
   ]
  },
  {
   "cell_type": "code",
   "execution_count": 4,
   "id": "dde0c34e",
   "metadata": {},
   "outputs": [
    {
     "name": "stdout",
     "output_type": "stream",
     "text": [
      "{2, 3, 4, 5, 11}\n"
     ]
    }
   ],
   "source": [
    "num.add(11)\n",
    "num.remove(1)\n",
    "print(num)"
   ]
  },
  {
   "cell_type": "markdown",
   "id": "c0532353",
   "metadata": {},
   "source": [
    "ass3"
   ]
  },
  {
   "cell_type": "code",
   "execution_count": 7,
   "id": "6b355aa1",
   "metadata": {},
   "outputs": [
    {
     "name": "stdout",
     "output_type": "stream",
     "text": [
      "{1, 2, 3, 4, 5, 6, 8, 10}\n",
      "{2, 4}\n",
      "{1, 3, 5}\n",
      "{1, 3, 5, 6, 8, 10}\n"
     ]
    }
   ],
   "source": [
    "s1 = set(range(1,6))\n",
    "s2 = set(i for i in range(1,11) if i%2==0)\n",
    "\n",
    "print(s1.union(s2))\n",
    "print(s1.intersection(s2))\n",
    "print(s1.difference(s2))\n",
    "print(s1.symmetric_difference(s2))"
   ]
  },
  {
   "cell_type": "markdown",
   "id": "9a815b27",
   "metadata": {},
   "source": [
    "ass4"
   ]
  },
  {
   "cell_type": "code",
   "execution_count": 8,
   "id": "25ff25ab",
   "metadata": {},
   "outputs": [
    {
     "name": "stdout",
     "output_type": "stream",
     "text": [
      "{64, 1, 4, 36, 100, 9, 16, 49, 81, 25}\n"
     ]
    }
   ],
   "source": [
    "sq = set(i**2 for i in range(1,11))\n",
    "print(sq)"
   ]
  },
  {
   "cell_type": "markdown",
   "id": "354321bf",
   "metadata": {},
   "source": [
    "ass5\n"
   ]
  },
  {
   "cell_type": "code",
   "execution_count": 9,
   "id": "b7caf550",
   "metadata": {},
   "outputs": [
    {
     "name": "stdout",
     "output_type": "stream",
     "text": [
      "{2, 4}\n"
     ]
    }
   ],
   "source": [
    "s = {i for i in num if i%2==0}\n",
    "print(s)"
   ]
  },
  {
   "cell_type": "markdown",
   "id": "f699df33",
   "metadata": {},
   "source": [
    "ass6"
   ]
  },
  {
   "cell_type": "code",
   "execution_count": 11,
   "id": "1e91e4f7",
   "metadata": {},
   "outputs": [
    {
     "name": "stdout",
     "output_type": "stream",
     "text": [
      "{1, 3, 4, 5, 7, 8}\n"
     ]
    }
   ],
   "source": [
    "ss = {1,3,7,4,8,5,3,7,8,3}\n",
    "print(ss)"
   ]
  },
  {
   "cell_type": "markdown",
   "id": "81759580",
   "metadata": {},
   "source": [
    "ass7"
   ]
  },
  {
   "cell_type": "code",
   "execution_count": 18,
   "id": "130a918f",
   "metadata": {},
   "outputs": [
    {
     "name": "stdout",
     "output_type": "stream",
     "text": [
      "True\n",
      "True\n"
     ]
    }
   ],
   "source": [
    "x1 = set(range(1,6))\n",
    "x2 = set(range(1,4))\n",
    "print(x2.issubset(x1))\n",
    "print(x1.issuperset(x2))"
   ]
  },
  {
   "cell_type": "markdown",
   "id": "68ecb6fd",
   "metadata": {},
   "source": [
    "ass8"
   ]
  },
  {
   "cell_type": "code",
   "execution_count": 19,
   "id": "d734f3b2",
   "metadata": {},
   "outputs": [
    {
     "name": "stdout",
     "output_type": "stream",
     "text": [
      "frozenset({1, 2, 3, 4, 5})\n"
     ]
    }
   ],
   "source": [
    "fset = frozenset(range(1,6))\n",
    "print(fset)"
   ]
  },
  {
   "cell_type": "markdown",
   "id": "a25f7d00",
   "metadata": {},
   "source": [
    "ass9"
   ]
  },
  {
   "cell_type": "code",
   "execution_count": 22,
   "id": "1411d37d",
   "metadata": {},
   "outputs": [
    {
     "name": "stdout",
     "output_type": "stream",
     "text": [
      "{1, 2, 3, 4, 5, 6}\n"
     ]
    }
   ],
   "source": [
    "x = set(range(1,6))\n",
    "l = list(x)\n",
    "l.append(6)\n",
    "x = set(l)\n",
    "print(x)"
   ]
  },
  {
   "cell_type": "markdown",
   "id": "c2b6943b",
   "metadata": {},
   "source": [
    "ass10"
   ]
  },
  {
   "cell_type": "code",
   "execution_count": 24,
   "id": "76efa0e9",
   "metadata": {},
   "outputs": [
    {
     "name": "stdout",
     "output_type": "stream",
     "text": [
      "{frozenset({1, 2}): 3, frozenset({4, 5}): 6, frozenset({8, 7}): 9}\n"
     ]
    }
   ],
   "source": [
    "dic = {frozenset([1,2]):3,frozenset([4,5]):6,frozenset([7,8]):9}\n",
    "print(dic)"
   ]
  },
  {
   "cell_type": "markdown",
   "id": "8bc6d34d",
   "metadata": {},
   "source": [
    "ass11"
   ]
  },
  {
   "cell_type": "code",
   "execution_count": 26,
   "id": "09c8f837",
   "metadata": {},
   "outputs": [
    {
     "name": "stdout",
     "output_type": "stream",
     "text": [
      "1\n",
      "2\n",
      "3\n",
      "4\n",
      "5\n",
      "6\n",
      "7\n",
      "8\n",
      "9\n",
      "10\n"
     ]
    }
   ],
   "source": [
    "sx = set(range(1,11))\n",
    "for el in sx:\n",
    "    print(el)"
   ]
  },
  {
   "cell_type": "markdown",
   "id": "62880151",
   "metadata": {},
   "source": [
    "ass12"
   ]
  },
  {
   "cell_type": "code",
   "execution_count": 28,
   "id": "0296b5c4",
   "metadata": {},
   "outputs": [
    {
     "name": "stdout",
     "output_type": "stream",
     "text": [
      "{1, 2, 3, 4}\n",
      "{2, 3, 4}\n",
      "{3, 4}\n",
      "{4}\n",
      "set()\n"
     ]
    }
   ],
   "source": [
    "num1 = set(range(0,5))\n",
    "while num1:\n",
    "    num1.pop()\n",
    "    print(num1)"
   ]
  },
  {
   "cell_type": "markdown",
   "id": "c44726be",
   "metadata": {},
   "source": [
    "ass13"
   ]
  },
  {
   "cell_type": "code",
   "execution_count": 31,
   "id": "b5d6baf7",
   "metadata": {},
   "outputs": [
    {
     "name": "stdout",
     "output_type": "stream",
     "text": [
      "{1, 2, 3, 6, 7, 8, 9}\n"
     ]
    }
   ],
   "source": [
    "s1 = set(range(1,6))\n",
    "s2 = set(range(4,10))\n",
    "s1.symmetric_difference_update(s2)\n",
    "print(s1)"
   ]
  },
  {
   "cell_type": "markdown",
   "id": "aa028f51",
   "metadata": {},
   "source": [
    "ass14"
   ]
  },
  {
   "cell_type": "code",
   "execution_count": 32,
   "id": "f5b3c388",
   "metadata": {},
   "outputs": [
    {
     "name": "stdout",
     "output_type": "stream",
     "text": [
      "True\n",
      "True\n",
      "False\n"
     ]
    }
   ],
   "source": [
    "test = set(range(0,10))\n",
    "print(4 in test)\n",
    "print(7 in test)\n",
    "print(11 in test)"
   ]
  },
  {
   "cell_type": "markdown",
   "id": "467593d0",
   "metadata": {},
   "source": [
    "ass15"
   ]
  },
  {
   "cell_type": "code",
   "execution_count": 33,
   "id": "c21f7f4d",
   "metadata": {},
   "outputs": [
    {
     "name": "stdout",
     "output_type": "stream",
     "text": [
      "{(1, 2), (3, 4), (5, 6)}\n"
     ]
    }
   ],
   "source": [
    "st = {(1,2),(3,4),(5,6)}\n",
    "print(st)"
   ]
  }
 ],
 "metadata": {
  "kernelspec": {
   "display_name": "Python 3",
   "language": "python",
   "name": "python3"
  },
  "language_info": {
   "codemirror_mode": {
    "name": "ipython",
    "version": 3
   },
   "file_extension": ".py",
   "mimetype": "text/x-python",
   "name": "python",
   "nbconvert_exporter": "python",
   "pygments_lexer": "ipython3",
   "version": "3.12.0"
  }
 },
 "nbformat": 4,
 "nbformat_minor": 5
}
