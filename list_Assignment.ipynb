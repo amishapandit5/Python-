{
 "cells": [
  {
   "cell_type": "markdown",
   "metadata": {},
   "source": [
    "# Module 3: Data Structures Assignments\n",
    "## Lesson 3.1: Lists\n",
    "### Assignment 1: Creating and Accessing Lists\n",
    "\n",
    "Create a list of the first 20 positive integers. Print the list.\n",
    "\n",
    "### Assignment 2: Accessing List Elements\n",
    "\n",
    "Print the first, middle, and last elements of the list created in Assignment 1.\n",
    "\n",
    "### Assignment 3: List Slicing\n",
    "\n",
    "Print the first five elements, the last five elements, and the elements from index 5 to 15 of the list created in Assignment 1.\n",
    "\n",
    "### Assignment 4: List Comprehensions\n",
    "\n",
    "Create a new list containing the squares of the first 10 positive integers using a list comprehension. Print the new list.\n",
    "\n",
    "### Assignment 5: Filtering Lists\n",
    "\n",
    "Create a new list containing only the even numbers from the list created in Assignment 1 using a list comprehension. Print the new list.\n",
    "\n",
    "### Assignment 6: List Methods\n",
    "\n",
    "Create a list of random numbers and sort it in ascending and descending order. Remove the duplicates from the list and print the modified list.\n",
    "\n",
    "### Assignment 7: Nested Lists\n",
    "\n",
    "Create a nested list representing a 3x3 matrix and print the matrix. Access and print the element at the second row and third column.\n",
    "\n",
    "### Assignment 8: List of Dictionaries\n",
    "\n",
    "Create a list of dictionaries where each dictionary represents a student with keys 'name' and 'score'. Sort the list of dictionaries by the 'score' in descending order and print the sorted list.\n",
    "\n",
    "### Assignment 9: Matrix Transposition\n",
    "\n",
    "Write a function that takes a 3x3 matrix (nested list) as input and returns its transpose. Print the original and transposed matrices.\n",
    "\n",
    "### Assignment 10: Flattening a Nested List\n",
    "\n",
    "Write a function that takes a nested list and flattens it into a single list. Print the original and flattened lists.\n",
    "\n",
    "### Assignment 11: List Manipulation\n",
    "\n",
    "Create a list of the first 10 positive integers. Remove the elements at indices 2, 4, and 6, and insert the element '99' at index 5. Print the modified list.\n",
    "\n",
    "### Assignment 12: List Zipping\n",
    "\n",
    "Create two lists of the same length. Use the `zip` function to combine these lists into a list of tuples and print the result.\n",
    "\n",
    "### Assignment 13: List Reversal\n",
    "\n",
    "Write a function that takes a list and returns a new list with the elements in reverse order. Print the original and reversed lists.\n",
    "\n",
    "### Assignment 14: List Rotation\n",
    "\n",
    "Write a function that rotates a list by n positions. Print the original and rotated lists.\n",
    "\n",
    "### Assignment 15: List Intersection\n",
    "\n",
    "Write a function that takes two lists and returns a new list containing only the elements that are present in both lists. Print the intersected list."
   ]
  },
  {
   "cell_type": "markdown",
   "id": "7745f644",
   "metadata": {},
   "source": [
    "ass1\n"
   ]
  },
  {
   "cell_type": "code",
   "execution_count": 1,
   "id": "a6704521",
   "metadata": {},
   "outputs": [
    {
     "name": "stdout",
     "output_type": "stream",
     "text": [
      "[0, 1, 2, 3, 4, 5, 6, 7, 8, 9, 10, 11, 12, 13, 14, 15, 16, 17, 18, 19, 20]\n"
     ]
    }
   ],
   "source": [
    "lst = [num for num in range(0,21)]\n",
    "print(lst)"
   ]
  },
  {
   "cell_type": "markdown",
   "id": "adc64f89",
   "metadata": {},
   "source": [
    "ass2\n"
   ]
  },
  {
   "cell_type": "code",
   "execution_count": 7,
   "metadata": {},
   "outputs": [
    {
     "name": "stdout",
     "output_type": "stream",
     "text": [
      "0\n",
      "10\n",
      "20\n"
     ]
    }
   ],
   "source": [
    "lst = list(range(0,21))\n",
    "print(lst[0])\n",
    "print(lst[len(lst)//2])\n",
    "print(lst[len(lst)-1])"
   ]
  },
  {
   "cell_type": "markdown",
   "id": "da112c1e",
   "metadata": {},
   "source": [
    "ass3"
   ]
  },
  {
   "cell_type": "code",
   "execution_count": 11,
   "id": "90d8d076",
   "metadata": {},
   "outputs": [
    {
     "name": "stdout",
     "output_type": "stream",
     "text": [
      "[0, 1, 2, 3, 4]\n",
      "[16, 17, 18, 19, 20]\n",
      "[5, 6, 7, 8, 9, 10, 11, 12, 13, 14, 15]\n"
     ]
    }
   ],
   "source": [
    "lst = list(range(0,21))\n",
    "print(lst[0:5])\n",
    "print(lst[-5:])\n",
    "print(lst[5:16])"
   ]
  },
  {
   "cell_type": "markdown",
   "id": "e654b6f4",
   "metadata": {},
   "source": [
    "ass4"
   ]
  },
  {
   "cell_type": "code",
   "execution_count": 13,
   "id": "896d8c64",
   "metadata": {},
   "outputs": [
    {
     "name": "stdout",
     "output_type": "stream",
     "text": [
      "[0, 1, 4, 9, 16, 25, 36, 49, 64, 81]\n"
     ]
    }
   ],
   "source": [
    "lst = [ num**2 for num in range(0,10)]\n",
    "print(lst)"
   ]
  },
  {
   "cell_type": "markdown",
   "id": "e8e3cf17",
   "metadata": {},
   "source": [
    "ass5"
   ]
  },
  {
   "cell_type": "code",
   "execution_count": 14,
   "id": "1c64cb4e",
   "metadata": {},
   "outputs": [
    {
     "name": "stdout",
     "output_type": "stream",
     "text": [
      "[0, 2, 4, 6, 8, 10, 12, 14, 16, 18, 20]\n"
     ]
    }
   ],
   "source": [
    "lst = list(range(0,21))\n",
    "lst2 = [num for num in lst if num%2==0]\n",
    "print(lst2)"
   ]
  },
  {
   "cell_type": "markdown",
   "id": "e9c8e274",
   "metadata": {},
   "source": [
    "ass6"
   ]
  },
  {
   "cell_type": "code",
   "execution_count": 16,
   "id": "77ca1518",
   "metadata": {},
   "outputs": [
    {
     "name": "stdout",
     "output_type": "stream",
     "text": [
      "[4, 2, 7, 17, 7, 6, 2, 14, 7, 5, 6, 11, 10, 3, 11]\n",
      "[2, 2, 3, 4, 5, 6, 6, 7, 7, 7, 10, 11, 11, 14, 17]\n",
      "[17, 14, 11, 11, 10, 7, 7, 7, 6, 6, 5, 4, 3, 2, 2]\n",
      "[2, 3, 4, 5, 6, 7, 10, 11, 14, 17]\n"
     ]
    }
   ],
   "source": [
    "\n",
    "import random as rd\n",
    "lst = [rd.randint(1,20) for _ in range(15)]\n",
    "print(lst)\n",
    "print(sorted(lst))\n",
    "print(sorted(lst, reverse=True))\n",
    "print(list(set(lst)))"
   ]
  },
  {
   "cell_type": "markdown",
   "id": "2423f86d",
   "metadata": {},
   "source": [
    "ass7"
   ]
  },
  {
   "cell_type": "code",
   "execution_count": 17,
   "id": "32fc560f",
   "metadata": {},
   "outputs": [
    {
     "name": "stdout",
     "output_type": "stream",
     "text": [
      "Matrix:\n",
      "[1, 2, 3]\n",
      "[4, 5, 6]\n",
      "[7, 8, 9]\n",
      "Element at second row and third column: 6\n"
     ]
    }
   ],
   "source": [
    "matrix = [\n",
    "    [1, 2, 3],\n",
    "    [4, 5, 6],\n",
    "    [7, 8, 9]\n",
    "]\n",
    "print(\"Matrix:\")\n",
    "for row in matrix:\n",
    "    print(row)\n",
    "print(f\"Element at second row and third column: {matrix[1][2]}\")"
   ]
  },
  {
   "cell_type": "markdown",
   "id": "8fb79a4c",
   "metadata": {},
   "source": [
    "ass8"
   ]
  },
  {
   "cell_type": "code",
   "execution_count": 18,
   "id": "d26f572c",
   "metadata": {},
   "outputs": [
    {
     "name": "stdout",
     "output_type": "stream",
     "text": [
      "{'name': 'Charlie', 'score': 95}\n",
      "{'name': 'Alice', 'score': 88}\n",
      "{'name': 'Eve', 'score': 78}\n",
      "{'name': 'Bob', 'score': 72}\n",
      "{'name': 'David', 'score': 65}\n"
     ]
    }
   ],
   "source": [
    "students = [\n",
    "    {'name': 'Alice', 'score': 88},\n",
    "    {'name': 'Bob', 'score': 72},\n",
    "    {'name': 'Charlie', 'score': 95},\n",
    "    {'name': 'David', 'score': 65},\n",
    "    {'name': 'Eve', 'score': 78}\n",
    "]\n",
    "sorted_students = sorted(students, key = lambda x: x['score'], reverse=True)\n",
    "for student in sorted_students:\n",
    "    print(student)"
   ]
  },
  {
   "cell_type": "markdown",
   "id": "606bab07",
   "metadata": {},
   "source": [
    "ass9"
   ]
  },
  {
   "cell_type": "code",
   "execution_count": 19,
   "id": "72cd2434",
   "metadata": {},
   "outputs": [
    {
     "name": "stdout",
     "output_type": "stream",
     "text": [
      "[1, 2, 3]\n",
      "[4, 5, 6]\n",
      "[7, 8, 9]\n",
      "[1, 4, 7]\n",
      "[2, 5, 8]\n",
      "[3, 6, 9]\n"
     ]
    }
   ],
   "source": [
    "def transpose_matrix(matrix):\n",
    "    transposed = [[matrix[j][i] for j in range(len(matrix))] for i in range(len(matrix[0]))]\n",
    "    return transposed\n",
    "\n",
    "matrix = [\n",
    "    [1, 2, 3],\n",
    "    [4, 5, 6],\n",
    "    [7, 8, 9]\n",
    "]\n",
    "transposed = transpose_matrix(matrix)\n",
    "for row in matrix:\n",
    "    print(row)\n",
    "for row in transposed:\n",
    "    print(row)"
   ]
  },
  {
   "cell_type": "markdown",
   "id": "66e847d5",
   "metadata": {},
   "source": [
    "ass10"
   ]
  },
  {
   "cell_type": "code",
   "execution_count": 21,
   "id": "05649da1",
   "metadata": {},
   "outputs": [
    {
     "name": "stdout",
     "output_type": "stream",
     "text": [
      "[[1, 2, 3], [4, 5, 6], [7, 8, 9]]\n",
      "Flattened list:\n",
      "[1, 2, 3, 4, 5, 6, 7, 8, 9]\n"
     ]
    }
   ],
   "source": [
    "def flatten_list(nested_list):\n",
    "    flat_list = [item for sublist in nested_list for item in sublist]\n",
    "    return flat_list\n",
    "\n",
    "nested_list = [\n",
    "    [1, 2, 3],\n",
    "    [4, 5, 6],\n",
    "    [7, 8, 9]\n",
    "]\n",
    "flattened = flatten_list(nested_list)\n",
    "print(nested_list)\n",
    "print(\"Flattened list:\")\n",
    "print(flattened)"
   ]
  },
  {
   "cell_type": "markdown",
   "id": "37b99613",
   "metadata": {},
   "source": [
    "ass11"
   ]
  },
  {
   "cell_type": "code",
   "execution_count": 24,
   "id": "8fc7066f",
   "metadata": {},
   "outputs": [
    {
     "name": "stdout",
     "output_type": "stream",
     "text": [
      "[1, 2, 3, 4, 5, 6, 7, 8, 9, 10]\n",
      "[1, 2, 4, 6, 8, 99, 9, 10]\n"
     ]
    }
   ],
   "source": [
    "lst = list(range(1, 11))\n",
    "print(lst)\n",
    "del lst[6]\n",
    "del lst[4]\n",
    "del lst[2]\n",
    "lst.insert(5, 99)\n",
    "print(lst)"
   ]
  },
  {
   "cell_type": "markdown",
   "id": "328e8104",
   "metadata": {},
   "source": [
    "ass12"
   ]
  },
  {
   "cell_type": "code",
   "execution_count": 25,
   "id": "bfc3a0e6",
   "metadata": {},
   "outputs": [
    {
     "name": "stdout",
     "output_type": "stream",
     "text": [
      "[(1, 'a'), (2, 'b'), (3, 'c'), (4, 'd'), (5, 'e')]\n"
     ]
    }
   ],
   "source": [
    "list1 = [1, 2, 3, 4, 5]\n",
    "list2 = ['a', 'b', 'c', 'd', 'e']\n",
    "zipped = list(zip(list1, list2))\n",
    "print(zipped)"
   ]
  },
  {
   "cell_type": "markdown",
   "id": "89c9383c",
   "metadata": {},
   "source": [
    "ass13"
   ]
  },
  {
   "cell_type": "code",
   "execution_count": 26,
   "id": "4ed38318",
   "metadata": {},
   "outputs": [
    {
     "name": "stdout",
     "output_type": "stream",
     "text": [
      "[1, 2, 3, 4, 5]\n",
      "[5, 4, 3, 2, 1]\n"
     ]
    }
   ],
   "source": [
    "def reverse_list(lst):\n",
    "    return lst[::-1]\n",
    "\n",
    "original_list = [1, 2, 3, 4, 5]\n",
    "reversed_list = reverse_list(original_list)\n",
    "print(original_list)\n",
    "print(reversed_list)"
   ]
  },
  {
   "cell_type": "markdown",
   "id": "d42df227",
   "metadata": {},
   "source": [
    "ass14"
   ]
  },
  {
   "cell_type": "code",
   "execution_count": 27,
   "id": "4504f7d6",
   "metadata": {},
   "outputs": [
    {
     "name": "stdout",
     "output_type": "stream",
     "text": [
      "[1, 2, 3, 4, 5]\n",
      "[3, 4, 5, 1, 2]\n"
     ]
    }
   ],
   "source": [
    "def rotate_list(lst, n):\n",
    "    return lst[n:] + lst[:n]\n",
    "\n",
    "original_list = [1, 2, 3, 4, 5]\n",
    "rotated_list = rotate_list(original_list, 2)\n",
    "print(original_list)\n",
    "print(rotated_list)"
   ]
  },
  {
   "cell_type": "markdown",
   "id": "866f5d0e",
   "metadata": {},
   "source": [
    "ass15"
   ]
  },
  {
   "cell_type": "code",
   "execution_count": 28,
   "id": "52029659",
   "metadata": {},
   "outputs": [
    {
     "name": "stdout",
     "output_type": "stream",
     "text": [
      "Intersection: [3, 4, 5]\n"
     ]
    }
   ],
   "source": [
    "def list_intersection(lst1, lst2):\n",
    "    return [x for x in lst1 if x in lst2]\n",
    "\n",
    "list1 = [1, 2, 3, 4, 5]\n",
    "list2 = [3, 4, 5, 6, 7]\n",
    "intersection = list_intersection(list1, list2)\n",
    "print(f\"Intersection: {intersection}\")"
   ]
  },
  {
   "cell_type": "markdown",
   "id": "1b516aa1",
   "metadata": {},
   "source": [
    "EXTRA QUESTIONS:"
   ]
  },
  {
   "cell_type": "code",
   "execution_count": 1,
   "id": "8d3e6f45",
   "metadata": {},
   "outputs": [
    {
     "name": "stdout",
     "output_type": "stream",
     "text": [
      "[1, 2, 3, 5, 4]\n"
     ]
    }
   ],
   "source": [
    "def remove_duplicates(lst):\n",
    "    # Your code goes here\n",
    "    uniqueList = []\n",
    "    for items in lst:\n",
    "        if items not in uniqueList:\n",
    "            uniqueList.append(items)\n",
    "    return(uniqueList)\n",
    "    \n",
    "print(remove_duplicates([1,2,3,2,3,5,3,4,4]))"
   ]
  },
  {
   "cell_type": "code",
   "execution_count": 2,
   "id": "aceeafb5",
   "metadata": {},
   "outputs": [
    {
     "name": "stdout",
     "output_type": "stream",
     "text": [
      "10\n"
     ]
    }
   ],
   "source": [
    "def find_largest(numbers):\n",
    "    # Your code goes here\n",
    "    maxi = numbers[0]\n",
    "    for num in numbers:\n",
    "        if (num > maxi):\n",
    "            maxi = num\n",
    "        else:\n",
    "            continue\n",
    "    return maxi\n",
    "    \n",
    "print(find_largest([3,8,2,10,5]))"
   ]
  },
  {
   "cell_type": "code",
   "execution_count": 3,
   "id": "c4970399",
   "metadata": {},
   "outputs": [
    {
     "name": "stdout",
     "output_type": "stream",
     "text": [
      "15\n"
     ]
    }
   ],
   "source": [
    "def sum_list(numbers):\n",
    "    # Your code goes here\n",
    "    sum = 0\n",
    "    for num in numbers:\n",
    "        sum += num\n",
    "    return sum\n",
    "print(sum_list([1,2,3,4,5]))"
   ]
  },
  {
   "cell_type": "code",
   "execution_count": 4,
   "id": "b993ae9a",
   "metadata": {},
   "outputs": [
    {
     "name": "stdout",
     "output_type": "stream",
     "text": [
      "False\n"
     ]
    }
   ],
   "source": [
    "def check_unique(lst):\n",
    "    # Your code goes here\n",
    "    for ele in lst:\n",
    "        count = 0\n",
    "        for num in lst :\n",
    "            if(ele == num):\n",
    "                count += 1\n",
    "                if(count > 1):\n",
    "                    return False\n",
    "            else:\n",
    "                continue\n",
    "    return True\n",
    "print(check_unique([1,2,3,2,4,5]))\n"
   ]
  },
  {
   "cell_type": "code",
   "execution_count": 5,
   "id": "c41b60c5",
   "metadata": {},
   "outputs": [
    {
     "name": "stdout",
     "output_type": "stream",
     "text": [
      "[5, 4, 3, 2, 1]\n"
     ]
    }
   ],
   "source": [
    "def reverse_list(lst):\n",
    "    # Your code goes here\n",
    "    x = 0\n",
    "    y = len(lst)-1\n",
    "    while(x<y):\n",
    "        ran = lst[x]\n",
    "        lst[x] = lst[y]\n",
    "        lst[y] = ran\n",
    "        x += 1\n",
    "        y -= 1\n",
    "    return lst\n",
    "print(reverse_list([1,2,3,4,5]))\n",
    "        \n"
   ]
  },
  {
   "cell_type": "code",
   "execution_count": 6,
   "id": "df072345",
   "metadata": {},
   "outputs": [
    {
     "name": "stdout",
     "output_type": "stream",
     "text": [
      "(3, 3)\n"
     ]
    }
   ],
   "source": [
    "def count_even_odd(lst):\n",
    "    # Your code goes here\n",
    "    eve = 0 \n",
    "    odd = 0\n",
    "    for elem in lst:\n",
    "        if(elem % 2 == 0):\n",
    "            eve += 1\n",
    "        else:\n",
    "            odd += 1\n",
    "    countelem = (eve,odd)\n",
    "    return(countelem)\n",
    "print(count_even_odd([1,2,3,4,5,6]))\n",
    "    \n",
    "            \n"
   ]
  },
  {
   "cell_type": "code",
   "execution_count": 7,
   "id": "1c5785cc",
   "metadata": {},
   "outputs": [
    {
     "name": "stdout",
     "output_type": "stream",
     "text": [
      "True\n"
     ]
    }
   ],
   "source": [
    "def is_subset(lst1, lst2):\n",
    "    # Your code goes here\n",
    "    count = 0\n",
    "    for elem in lst1:\n",
    "        for el in lst2:\n",
    "            if(el == elem):\n",
    "                count += 1\n",
    "                break\n",
    "    if(count == len(lst1)):\n",
    "        return True\n",
    "    else:\n",
    "        return False\n",
    "        \n",
    "print(is_subset([1,2,3],[1,2,3,4,5]))\n"
   ]
  },
  {
   "cell_type": "code",
   "execution_count": 8,
   "id": "6809dabf",
   "metadata": {},
   "outputs": [
    {
     "name": "stdout",
     "output_type": "stream",
     "text": [
      "7\n"
     ]
    }
   ],
   "source": [
    "def max_consecutive_difference(lst):\n",
    "    # Your code goes here\n",
    "    maxi = 0\n",
    "    for i in range(len(lst) - 1):\n",
    "        diff = abs(lst[i] - lst[i+1]) \n",
    "        if(diff > maxi):\n",
    "            maxi = diff\n",
    "    return maxi\n",
    "    \n",
    "print(max_consecutive_difference([1,7,3,10,5]))\n",
    "    \n"
   ]
  }
 ],
 "metadata": {
  "kernelspec": {
   "display_name": "Python 3",
   "language": "python",
   "name": "python3"
  },
  "language_info": {
   "codemirror_mode": {
    "name": "ipython",
    "version": 3
   },
   "file_extension": ".py",
   "mimetype": "text/x-python",
   "name": "python",
   "nbconvert_exporter": "python",
   "pygments_lexer": "ipython3",
   "version": "3.12.0"
  }
 },
 "nbformat": 4,
 "nbformat_minor": 5
}
